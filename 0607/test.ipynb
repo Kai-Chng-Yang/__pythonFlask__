{
 "cells": [
  {
   "cell_type": "code",
   "execution_count": null,
   "metadata": {},
   "outputs": [],
   "source": [
    "books = {'name':'air pod','article':'robert'}\n",
    "books.get('nam')"
   ]
  }
 ],
 "metadata": {
  "language_info": {
   "name": "python"
  },
  "orig_nbformat": 4
 },
 "nbformat": 4,
 "nbformat_minor": 2
}
